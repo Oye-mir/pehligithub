{
 "cells": [
  {
   "cell_type": "code",
   "execution_count": 1,
   "id": "d28b1a5f",
   "metadata": {},
   "outputs": [],
   "source": [
    "# body mass index \n",
    "# input weight\n",
    "# height\n",
    "# BMI (ask your self your height)\n",
    "# weight\n",
    "# calculate BMI\n",
    "# print BMI (my name is..., and my BMI is..)"
   ]
  },
  {
   "cell_type": "code",
   "execution_count": 2,
   "id": "9e0d2699",
   "metadata": {},
   "outputs": [
    {
     "name": "stdout",
     "output_type": "stream",
     "text": [
      "what is your height? 1.74\n"
     ]
    }
   ],
   "source": [
    "height = input(\"what is your height? \")"
   ]
  },
  {
   "cell_type": "code",
   "execution_count": 3,
   "id": "d8743844",
   "metadata": {},
   "outputs": [],
   "source": [
    "height= float(height)"
   ]
  },
  {
   "cell_type": "code",
   "execution_count": 4,
   "id": "2e089cb9",
   "metadata": {},
   "outputs": [
    {
     "name": "stdout",
     "output_type": "stream",
     "text": [
      "what is your weight? 68\n"
     ]
    }
   ],
   "source": [
    "weight = input(\"what is your weight? \")"
   ]
  },
  {
   "cell_type": "code",
   "execution_count": 5,
   "id": "0b063171",
   "metadata": {},
   "outputs": [],
   "source": [
    "weight = float(weight)"
   ]
  },
  {
   "cell_type": "code",
   "execution_count": 6,
   "id": "b967c505",
   "metadata": {},
   "outputs": [
    {
     "name": "stdout",
     "output_type": "stream",
     "text": [
      "what is your name? mir\n"
     ]
    }
   ],
   "source": [
    "name = input(\"what is your name? \")"
   ]
  },
  {
   "cell_type": "code",
   "execution_count": 7,
   "id": "49edf314",
   "metadata": {},
   "outputs": [
    {
     "data": {
      "text/plain": [
       "22.460034350640772"
      ]
     },
     "execution_count": 7,
     "metadata": {},
     "output_type": "execute_result"
    }
   ],
   "source": [
    "BMI = weight/height**2\n",
    "BMI"
   ]
  },
  {
   "cell_type": "code",
   "execution_count": 8,
   "id": "83cad31c",
   "metadata": {},
   "outputs": [
    {
     "name": "stdout",
     "output_type": "stream",
     "text": [
      "My name is mir and my BMI is  22.460034350640772\n"
     ]
    }
   ],
   "source": [
    "print (\"My name is\", name, \"and my BMI is \", BMI)"
   ]
  }
 ],
 "metadata": {
  "kernelspec": {
   "display_name": "Python 3 (ipykernel)",
   "language": "python",
   "name": "python3"
  },
  "language_info": {
   "codemirror_mode": {
    "name": "ipython",
    "version": 3
   },
   "file_extension": ".py",
   "mimetype": "text/x-python",
   "name": "python",
   "nbconvert_exporter": "python",
   "pygments_lexer": "ipython3",
   "version": "3.9.7"
  }
 },
 "nbformat": 4,
 "nbformat_minor": 5
}
