{
 "cells": [
  {
   "cell_type": "markdown",
   "id": "4ee326ed",
   "metadata": {},
   "source": [
    "# python ka chilla with baba ammar\n",
    "## how to use jupyter notebook\n",
    "## our basics of python\n",
    "###1-**my first program**"
   ]
  },
  {
   "cell_type": "markdown",
   "id": "ff0af4e3",
   "metadata": {},
   "source": [
    "print(2+3)\n",
    "print(\"hello world\")\n",
    "print(\"we are learning python with ammar\")"
   ]
  },
  {
   "cell_type": "markdown",
   "id": "f9a333c7",
   "metadata": {},
   "source": [
    "###2- **operators**"
   ]
  },
  {
   "cell_type": "markdown",
   "id": "614dc9d2",
   "metadata": {},
   "source": [
    "print(2+3)\n",
    "print(6/2)\n",
    "print(5-4)\n",
    "print(6*9)\n",
    "print(6//2)\n",
    "print(2**3)\n",
    "\n",
    "print(2**2/2*3+5/2)"
   ]
  },
  {
   "cell_type": "markdown",
   "id": "d48ce460",
   "metadata": {},
   "source": [
    "###3- **strings**"
   ]
  },
  {
   "cell_type": "markdown",
   "id": "ad43b878",
   "metadata": {},
   "source": [
    "print(\"hello world\")\n",
    "print(\"we are learning python with ammar\")\n",
    "print('single qoute')\n",
    "print(\"double qoute\")\n",
    "print('''triple qoute''')\n",
    "strings_clear"
   ]
  },
  {
   "cell_type": "markdown",
   "id": "37047172",
   "metadata": {},
   "source": [
    "###4 **comment**"
   ]
  },
  {
   "cell_type": "markdown",
   "id": "593fc696",
   "metadata": {},
   "source": [
    "print(\"how are you?\")\n",
    "print(\"we sre learning pyton with ammar\")\n",
    "print(2+6)"
   ]
  },
  {
   "cell_type": "markdown",
   "id": "215df498",
   "metadata": {},
   "source": [
    "###5- **variables**"
   ]
  },
  {
   "cell_type": "markdown",
   "id": "ee0a3776",
   "metadata": {},
   "source": [
    " x=5 #numeric variable\n",
    " print(x)\n",
    " y=\"we are learning python with ammar\" #string variable\n",
    " print(y)\n",
    "x= x+100\n",
    "print(x)\n",
    "\n",
    " types/class of variables\n",
    " type(x)\n",
    " print(type(x))\n",
    " print(type(y))\n",
    "print type class\n",
    "rules to assogn variable\n",
    "1 variables contain letter, numbers, or underscore\n",
    "2 do not start with numbers\n",
    "3 spaces are not allowed\n",
    "4 do not used keywords functinal\n",
    "5 short and descriptive\n",
    "6 case senstivity lower or upper case leeter , lower should be used\n",
    "\n",
    " fruit_basket=     9\n",
    "fruit_basket= 15\n",
    " print(type(fruit_basket))\n",
    " print(fruit_basket)\n",
    " del fruit_basket\n",
    "fruit basket"
   ]
  },
  {
   "cell_type": "markdown",
   "id": "adc00357",
   "metadata": {},
   "source": [
    "###6- **input_variables**"
   ]
  },
  {
   "cell_type": "markdown",
   "id": "c1c5bf6c",
   "metadata": {},
   "source": [
    "  fruit_basket= \"mangoes\"\n",
    " print(fruit_basket)\n",
    "\n",
    "input function simple\n",
    " fruit_basket=input(\"what is your favourite fruit?\")\n",
    " print(fruit_basket)\n",
    "\n",
    "input function second stage\n",
    " name=input(\"what is your name?\")\n",
    " greetings=\"hello!\"\n",
    " print(greetings, name)\n",
    "2nd way of input\n",
    " name=input(\"what is your name?\")\n",
    " print(\"Hello!\", name)\n",
    "\n",
    "\n",
    "3rd stage function\n",
    "name=input(\"what is your name? \")\n",
    "age= input(\"how old are you? \")\n",
    "greetings= \"hello!\"\n",
    "print(greetings, name, \", you are still young\")\n",
    "input_ammar_you are still young"
   ]
  },
  {
   "cell_type": "markdown",
   "id": "e62aeda6",
   "metadata": {},
   "source": [
    "###7- **conditional_logics**"
   ]
  },
  {
   "cell_type": "markdown",
   "id": "ab8a1e08",
   "metadata": {},
   "source": [
    "equal to ==\n",
    " not equal to !=\n",
    "less than < greater than >\n",
    "less than eqaul to <=\n",
    "greater than eqaul to >=\n",
    " t or f, yes or no , 0 or 1\n",
    "\n",
    "is 4 is equal to 4\n",
    " print(4==4)\n",
    " print(4!=4)\n",
    " print(4>3)\n",
    " print(3>6)\n",
    " print(3<=5)\n",
    " print(5>=4)\n",
    "\n",
    "application of logical operator\n",
    " mavia_age=4\n",
    " age_at_school=5\n",
    " print(mavia_age==age_at_school)\n",
    "input operator and logical operator\n",
    "age_at_school=5\n",
    "mavia_age=input(\"how old is mavia \") #input function\n",
    "mavia_age=int(mavia_age)\n",
    "print(type(mavia_age))\n",
    "print(mavia_age==age_at_school) #logical operator\n",
    "\n",
    "covert input"
   ]
  },
  {
   "cell_type": "markdown",
   "id": "d690c839",
   "metadata": {},
   "source": [
    "###8- **type_conversion**"
   ]
  },
  {
   "cell_type": "markdown",
   "id": "9ad5c9ca",
   "metadata": {},
   "source": [
    " x=10 #integar\n",
    " y=10.2 #float\n",
    " z= \"hello\" #integar\n",
    "implicit type conversion\n",
    " x=x*y\n",
    " print(type(x))\n",
    "\n",
    "explicit type conversion\n",
    " age=input(\"what is your age? \")\n",
    " #age=int(age)\n",
    " print(age, type(float(age)))\n",
    "\n",
    "name\n",
    "name=input(\"what is your age? \")\n",
    "print(name, type(str(name)))\n",
    "\n",
    "type_conversion"
   ]
  },
  {
   "cell_type": "markdown",
   "id": "e4308286",
   "metadata": {},
   "source": [
    "###9- **if_else_elif**"
   ]
  },
  {
   "cell_type": "markdown",
   "id": "5d4f4852",
   "metadata": {},
   "source": [
    "mavia_age= 1\n",
    "required_age_at_school= 5\n",
    "can hammad go to school?\n",
    "\n",
    "if mavia_age==required_age_at_school:\n",
    "    print(\"congratulations mavia can join the school.\")\n",
    "elif mavia_age > required_age_at_school:\n",
    "    print(\"mavia should join college\")\n",
    "elif mavia_age<= 2:\n",
    "    print(\"you sould take care of mavia , he is a baby\")\n",
    "else:\n",
    "     print(\"mavia can not join the school\")\n",
    "\n",
    "      if, elif, else statement clear"
   ]
  },
  {
   "cell_type": "markdown",
   "id": "3942c86a",
   "metadata": {},
   "source": [
    "###10- **functions**"
   ]
  },
  {
   "cell_type": "markdown",
   "id": "c31a86d5",
   "metadata": {},
   "source": [
    "print(\"we are learning with ammar\")\n",
    "function definig\n",
    "from typing import Text\n",
    "\n",
    " def print_codanics():\n",
    "     print(\"we are learning with ammar\")\n",
    "     print(\"we are learning with ammar\")\n",
    "     print(\"we are learning with ammar\")\n",
    " print_codanics()\n",
    "\n",
    "2\n",
    "def print_codanics():\n",
    "    Text = \"we are learning with ammar in yt channel\"\n",
    "     print(Text)\n",
    "    print(Text)\n",
    "    print(Text)\n",
    "\n",
    " print_codanics()\n",
    "3\n",
    " def print_codanics(Text):\n",
    "    print(Text)\n",
    "     print(Text)\n",
    "     print(Text)\n",
    " print_codanics('we are learning with ammar in yt channel')\n",
    " def a function with if elif else statement\n",
    " def school_calculator(age, text):\n",
    "    if age==5:\n",
    "         print(\"mavia can join the school\")\n",
    "     elif age>5:\n",
    "         print(\"mavia should go to college\")\n",
    "     else:\n",
    "         print(\"mavia is still a baby\")\n",
    " school_calculator(2, \"mavia\")\n",
    "\n",
    "def fuction of future\n",
    "def future_age(age):\n",
    "    new_age=age+20\n",
    "    return new_age\n",
    "    print(new_age)\n",
    "\n",
    "future_predicted_age= future_age(12)\n",
    "print(future_predicted_age)\n",
    " I understand function really well"
   ]
  },
  {
   "cell_type": "markdown",
   "id": "66704fe1",
   "metadata": {},
   "source": [
    "###11- **loops**"
   ]
  },
  {
   "cell_type": "markdown",
   "id": "ec1b0f47",
   "metadata": {},
   "source": [
    " while loops:\n",
    " x=0\n",
    " while(x<=5):\n",
    "     print(x)\n",
    "    x=x+1\n",
    "\n",
    "for loop\n",
    " for x in range(4,9):\n",
    "     print(x)\n",
    "\n",
    " array\n",
    "days = (\"mon\", \"tue\", \"wed\", \"thu\", \"fri\", \"sat\", \"sun\")\n",
    "for d in days :\n",
    "    #if (d==\"fri\"):break #loops stop\n",
    "    if (d==\"fri\"): continue #skips d\n",
    "    print(d)"
   ]
  },
  {
   "cell_type": "markdown",
   "id": "9e26e2e3",
   "metadata": {},
   "source": [
    "###12- **import libraries**"
   ]
  },
  {
   "cell_type": "markdown",
   "id": "ea7f4d5a",
   "metadata": {},
   "source": [
    "if you want to print tje value od Pi\n",
    "\n",
    "import math\n",
    "print(\"the value of pi is \",math.pi)\n",
    "\n",
    "import statistics\n",
    "\n",
    "\n",
    "x=(150,250,350,450)\n",
    "print(statistics.mean(x))\n",
    "statistic. lagana hai #numpy, pandas famous libraries"
   ]
  },
  {
   "cell_type": "markdown",
   "id": "1b229937",
   "metadata": {},
   "source": [
    "###13- **trouble_shooting**"
   ]
  },
  {
   "cell_type": "markdown",
   "id": "8790f8cd",
   "metadata": {},
   "source": [
    "print(\"we are learning python with ammar\") #syntax erroe\n",
    "\n",
    "from types import MappingProxyType\n",
    "\n",
    "\n",
    " print(25/0) #runtime error\n",
    "\n",
    "name = \"Mir\"\n",
    "print(\"hello\", name) #we use + for no spacing \n",
    "#troubleshooting is easy"
   ]
  },
  {
   "cell_type": "markdown",
   "id": "8ee06f5d",
   "metadata": {},
   "source": [
    "### done with my notebook **Abdullah Mir**"
   ]
  }
 ],
 "metadata": {
  "kernelspec": {
   "display_name": "Python 3 (ipykernel)",
   "language": "python",
   "name": "python3"
  },
  "language_info": {
   "codemirror_mode": {
    "name": "ipython",
    "version": 3
   },
   "file_extension": ".py",
   "mimetype": "text/x-python",
   "name": "python",
   "nbconvert_exporter": "python",
   "pygments_lexer": "ipython3",
   "version": "3.9.7"
  }
 },
 "nbformat": 4,
 "nbformat_minor": 5
}
